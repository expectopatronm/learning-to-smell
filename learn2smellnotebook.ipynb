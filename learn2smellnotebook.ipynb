{
  "nbformat": 4,
  "nbformat_minor": 0,
  "metadata": {
    "colab": {
      "name": "Copy of learning_to_smell.ipynb",
      "provenance": [],
      "collapsed_sections": [],
      "machine_shape": "hm"
    },
    "kernelspec": {
      "name": "python3",
      "display_name": "Python 3"
    },
    "accelerator": "GPU"
  },
  "cells": [
    {
      "cell_type": "code",
      "metadata": {
        "id": "Bgowg989lAel"
      },
      "source": [
        "import os\n",
        "import pandas as pd\n",
        "import numpy as np\n",
        "from sklearn.neighbors import NearestNeighbors"
      ],
      "execution_count": null,
      "outputs": []
    },
    {
      "cell_type": "code",
      "metadata": {
        "id": "ExFG9FORlAgj"
      },
      "source": [
        "train = pd.read_csv(\"data/train.csv\")\n",
        "test = pd.read_csv(\"data/test.csv\")\n",
        "vocab = pd.read_csv(\"data/vocabulary.txt\", header=None)"
      ],
      "execution_count": null,
      "outputs": []
    },
    {
      "cell_type": "code",
      "metadata": {
        "id": "A3bS7SMwlAir"
      },
      "source": [
        "fingerprints = pd.read_csv(\"pubchem_fingerprints.csv\")"
      ],
      "execution_count": null,
      "outputs": []
    },
    {
      "cell_type": "code",
      "metadata": {
        "id": "CcZlSyEDlAkV"
      },
      "source": [
        "train_df = train.merge(fingerprints, on=\"SMILES\", how=\"left\")\n",
        "test_df = test.merge(fingerprints, on=\"SMILES\", how=\"left\")\n",
        "print(train_df.fingerprint.isnull().sum(), \"train molecules have no associated fingerprint\")\n",
        "print(test_df.fingerprint.isnull().sum(), \"test molecules have no associated fingerprint\")"
      ],
      "execution_count": null,
      "outputs": []
    },
    {
      "cell_type": "code",
      "metadata": {
        "id": "S6TWuc2XlAmP"
      },
      "source": [
        "def to_bits(x):\n",
        "    try:\n",
        "        unpacked = np.unpackbits(np.frombuffer(bytes.fromhex(x), dtype=np.uint8))\n",
        "    except Exception as e:\n",
        "        print(e)\n",
        "        print(x)\n",
        "        \n",
        "    return unpacked\n",
        "\n",
        "train_df = train_df[~train_df.fingerprint.isnull()]\n",
        "train_fingerprints = train_df.fingerprint.apply(to_bits)#lambda fingerprint_string: [x=='1' for x in fingerprint_string])\n",
        "train_fingerprints = np.stack(train_fingerprints.values)\n",
        "\n",
        "test_df = test_df[~test_df.fingerprint.isnull()]\n",
        "test_fingerprints = test_df.fingerprint.apply(to_bits)#lambda fingerprint_string: [x=='1' for x in fingerprint_string])\n",
        "test_fingerprints = np.stack(test_fingerprints.values)"
      ],
      "execution_count": null,
      "outputs": []
    },
    {
      "cell_type": "code",
      "metadata": {
        "id": "CqXd9KYolAn9"
      },
      "source": [
        "nbrs = NearestNeighbors(n_neighbors=5, algorithm='ball_tree').fit(train_fingerprints)\n",
        "distances, neighbour_indices = nbrs.kneighbors(test_fingerprints)"
      ],
      "execution_count": null,
      "outputs": []
    },
    {
      "cell_type": "code",
      "metadata": {
        "id": "2pwE-yrPlAqI"
      },
      "source": [
        "for i, neighbours in zip(test_df.index, neighbour_indices):\n",
        "    test.loc[i, \"PREDICTIONS\"] = \";\".join([train.loc[train_df.index[x], \"SENTENCE\"] for x in neighbours])"
      ],
      "execution_count": null,
      "outputs": []
    },
    {
      "cell_type": "code",
      "metadata": {
        "id": "sx9QsqzClAtA"
      },
      "source": [
        "train.SENTENCE.value_counts()[:5]"
      ],
      "execution_count": null,
      "outputs": []
    },
    {
      "cell_type": "code",
      "metadata": {
        "id": "8hnQ1mMQlAvZ"
      },
      "source": [
        "default_prediction = \";\".join(train.SENTENCE.value_counts()[:5].index)"
      ],
      "execution_count": null,
      "outputs": []
    },
    {
      "cell_type": "code",
      "metadata": {
        "id": "2IZIrLLLlAxt"
      },
      "source": [
        "test.loc[test.PREDICTIONS.isnull(), \"PREDICTIONS\"] = default_prediction"
      ],
      "execution_count": null,
      "outputs": []
    }
  ]
}